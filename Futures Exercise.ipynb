{
 "cells": [
  {
   "cell_type": "code",
   "execution_count": 3,
   "metadata": {
    "scrolled": true
   },
   "outputs": [],
   "source": [
    "import numpy as np\n",
    "import pandas as pd\n",
    "from pandas import Series, DataFrame\n",
    "import matplotlib as mpl\n",
    "import matplotlib.pyplot as plt\n",
    "import seaborn as sns \n",
    "import datetime\n",
    "\n",
    "#imports\n",
    "#numpy pandas scipy math matplotlib\n",
    "\n",
    "import scipy\n",
    "import math\n",
    "from math import sqrt\n",
    "\n",
    "\n",
    "#estimators \n",
    "from sklearn.ensemble import RandomForestRegressor\n",
    "from sklearn.linear_model import LinearRegression\n",
    "from sklearn.svm import SVR\n",
    "from sklearn.svm import SVC\n",
    "from sklearn import linear_model\n",
    "\n",
    "#model metrics\n",
    "from sklearn.metrics import mean_squared_error\n",
    "from sklearn.metrics import r2_score\n",
    "from sklearn.model_selection import cross_val_score\n",
    "\n",
    "from sklearn.model_selection import StratifiedKFold\n",
    "from sklearn.feature_selection import RFECV\n",
    "from sklearn.datasets import make_classification\n",
    "from sklearn.feature_selection import RFE\n",
    "from sklearn.linear_model import LogisticRegression\n",
    "\n",
    "#cross validation\n",
    "from sklearn.model_selection import train_test_split\n",
    "from sklearn import preprocessing\n",
    "\n",
    "from sklearn import svm"
   ]
  },
  {
   "cell_type": "code",
   "execution_count": 4,
   "metadata": {
    "scrolled": true
   },
   "outputs": [],
   "source": [
    "CL = pd.read_csv('Crude Oil WTI Futures Historical Data.csv', header =1, index_col='Date',parse_dates=True)\n",
    "HO = pd.read_csv('Heating Oil Futures Historical Data.csv', header =1)\n",
    "RBOB = pd.read_csv('Gasoline RBOB Futures Historical Data.csv', header =1)"
   ]
  },
  {
   "cell_type": "code",
   "execution_count": 5,
   "metadata": {},
   "outputs": [
    {
     "data": {
      "text/html": [
       "<div>\n",
       "<style scoped>\n",
       "    .dataframe tbody tr th:only-of-type {\n",
       "        vertical-align: middle;\n",
       "    }\n",
       "\n",
       "    .dataframe tbody tr th {\n",
       "        vertical-align: top;\n",
       "    }\n",
       "\n",
       "    .dataframe thead th {\n",
       "        text-align: right;\n",
       "    }\n",
       "</style>\n",
       "<table border=\"1\" class=\"dataframe\">\n",
       "  <thead>\n",
       "    <tr style=\"text-align: right;\">\n",
       "      <th></th>\n",
       "      <th>Price</th>\n",
       "      <th>Open</th>\n",
       "      <th>High</th>\n",
       "      <th>Low</th>\n",
       "      <th>Vol.</th>\n",
       "      <th>Change %</th>\n",
       "    </tr>\n",
       "    <tr>\n",
       "      <th>Date</th>\n",
       "      <th></th>\n",
       "      <th></th>\n",
       "      <th></th>\n",
       "      <th></th>\n",
       "      <th></th>\n",
       "      <th></th>\n",
       "    </tr>\n",
       "  </thead>\n",
       "  <tbody>\n",
       "    <tr>\n",
       "      <th>2014-03-24</th>\n",
       "      <td>99.60</td>\n",
       "      <td>99.49</td>\n",
       "      <td>100.29</td>\n",
       "      <td>99.05</td>\n",
       "      <td>151710.00</td>\n",
       "      <td>0.14%</td>\n",
       "    </tr>\n",
       "    <tr>\n",
       "      <th>2014-03-25</th>\n",
       "      <td>99.19</td>\n",
       "      <td>99.43</td>\n",
       "      <td>100.25</td>\n",
       "      <td>98.80</td>\n",
       "      <td>217010.00</td>\n",
       "      <td>-0.41%</td>\n",
       "    </tr>\n",
       "    <tr>\n",
       "      <th>2014-03-26</th>\n",
       "      <td>100.26</td>\n",
       "      <td>99.18</td>\n",
       "      <td>100.46</td>\n",
       "      <td>99.10</td>\n",
       "      <td>211370.00</td>\n",
       "      <td>1.08%</td>\n",
       "    </tr>\n",
       "    <tr>\n",
       "      <th>2014-03-27</th>\n",
       "      <td>101.28</td>\n",
       "      <td>100.30</td>\n",
       "      <td>101.70</td>\n",
       "      <td>100.03</td>\n",
       "      <td>202200.00</td>\n",
       "      <td>1.02%</td>\n",
       "    </tr>\n",
       "    <tr>\n",
       "      <th>2014-03-28</th>\n",
       "      <td>101.67</td>\n",
       "      <td>101.34</td>\n",
       "      <td>102.24</td>\n",
       "      <td>101.18</td>\n",
       "      <td>166330.00</td>\n",
       "      <td>0.39%</td>\n",
       "    </tr>\n",
       "  </tbody>\n",
       "</table>\n",
       "</div>"
      ],
      "text/plain": [
       "             Price    Open    High     Low       Vol. Change %\n",
       "Date                                                          \n",
       "2014-03-24   99.60   99.49  100.29   99.05  151710.00    0.14%\n",
       "2014-03-25   99.19   99.43  100.25   98.80  217010.00   -0.41%\n",
       "2014-03-26  100.26   99.18  100.46   99.10  211370.00    1.08%\n",
       "2014-03-27  101.28  100.30  101.70  100.03  202200.00    1.02%\n",
       "2014-03-28  101.67  101.34  102.24  101.18  166330.00    0.39%"
      ]
     },
     "execution_count": 5,
     "metadata": {},
     "output_type": "execute_result"
    }
   ],
   "source": [
    "CL.head()"
   ]
  },
  {
   "cell_type": "code",
   "execution_count": 6,
   "metadata": {
    "scrolled": true
   },
   "outputs": [
    {
     "data": {
      "text/html": [
       "<div>\n",
       "<style scoped>\n",
       "    .dataframe tbody tr th:only-of-type {\n",
       "        vertical-align: middle;\n",
       "    }\n",
       "\n",
       "    .dataframe tbody tr th {\n",
       "        vertical-align: top;\n",
       "    }\n",
       "\n",
       "    .dataframe thead th {\n",
       "        text-align: right;\n",
       "    }\n",
       "</style>\n",
       "<table border=\"1\" class=\"dataframe\">\n",
       "  <thead>\n",
       "    <tr style=\"text-align: right;\">\n",
       "      <th></th>\n",
       "      <th>Price</th>\n",
       "      <th>Open</th>\n",
       "      <th>High</th>\n",
       "      <th>Low</th>\n",
       "    </tr>\n",
       "  </thead>\n",
       "  <tbody>\n",
       "    <tr>\n",
       "      <th>count</th>\n",
       "      <td>1338.000000</td>\n",
       "      <td>1338.000000</td>\n",
       "      <td>1338.000000</td>\n",
       "      <td>1338.000000</td>\n",
       "    </tr>\n",
       "    <tr>\n",
       "      <th>mean</th>\n",
       "      <td>58.195142</td>\n",
       "      <td>58.231525</td>\n",
       "      <td>59.028767</td>\n",
       "      <td>57.375815</td>\n",
       "    </tr>\n",
       "    <tr>\n",
       "      <th>std</th>\n",
       "      <td>17.578766</td>\n",
       "      <td>17.582209</td>\n",
       "      <td>17.539188</td>\n",
       "      <td>17.587380</td>\n",
       "    </tr>\n",
       "    <tr>\n",
       "      <th>min</th>\n",
       "      <td>26.210000</td>\n",
       "      <td>27.300000</td>\n",
       "      <td>27.480000</td>\n",
       "      <td>26.050000</td>\n",
       "    </tr>\n",
       "    <tr>\n",
       "      <th>25%</th>\n",
       "      <td>46.997500</td>\n",
       "      <td>46.900000</td>\n",
       "      <td>47.785000</td>\n",
       "      <td>45.912500</td>\n",
       "    </tr>\n",
       "    <tr>\n",
       "      <th>50%</th>\n",
       "      <td>52.705000</td>\n",
       "      <td>52.670000</td>\n",
       "      <td>53.470000</td>\n",
       "      <td>52.050000</td>\n",
       "    </tr>\n",
       "    <tr>\n",
       "      <th>75%</th>\n",
       "      <td>65.457500</td>\n",
       "      <td>65.317500</td>\n",
       "      <td>66.030000</td>\n",
       "      <td>64.327500</td>\n",
       "    </tr>\n",
       "    <tr>\n",
       "      <th>max</th>\n",
       "      <td>107.260000</td>\n",
       "      <td>107.420000</td>\n",
       "      <td>107.730000</td>\n",
       "      <td>106.570000</td>\n",
       "    </tr>\n",
       "  </tbody>\n",
       "</table>\n",
       "</div>"
      ],
      "text/plain": [
       "             Price         Open         High          Low\n",
       "count  1338.000000  1338.000000  1338.000000  1338.000000\n",
       "mean     58.195142    58.231525    59.028767    57.375815\n",
       "std      17.578766    17.582209    17.539188    17.587380\n",
       "min      26.210000    27.300000    27.480000    26.050000\n",
       "25%      46.997500    46.900000    47.785000    45.912500\n",
       "50%      52.705000    52.670000    53.470000    52.050000\n",
       "75%      65.457500    65.317500    66.030000    64.327500\n",
       "max     107.260000   107.420000   107.730000   106.570000"
      ]
     },
     "execution_count": 6,
     "metadata": {},
     "output_type": "execute_result"
    }
   ],
   "source": [
    "CL.describe()"
   ]
  },
  {
   "cell_type": "code",
   "execution_count": 7,
   "metadata": {
    "scrolled": false
   },
   "outputs": [
    {
     "name": "stdout",
     "output_type": "stream",
     "text": [
      "<class 'pandas.core.frame.DataFrame'>\n",
      "DatetimeIndex: 1338 entries, 2014-03-24 to 2019-04-22\n",
      "Data columns (total 6 columns):\n",
      "Price       1338 non-null float64\n",
      "Open        1338 non-null float64\n",
      "High        1338 non-null float64\n",
      "Low         1338 non-null float64\n",
      "Vol.        1338 non-null object\n",
      "Change %    1338 non-null object\n",
      "dtypes: float64(4), object(2)\n",
      "memory usage: 73.2+ KB\n"
     ]
    }
   ],
   "source": [
    "CL.info()"
   ]
  },
  {
   "cell_type": "code",
   "execution_count": 9,
   "metadata": {},
   "outputs": [],
   "source": [
    "CL[\"Price\"] = CL[\"Price\"].astype('int')\n",
    "CL[\"Open\"] = CL[\"Open\"].astype('long')\n",
    "CL[\"High\"] = CL[\"High\"].astype('long')\n",
    "CL[\"Low\"] = CL[\"Low\"].astype('long')\n"
   ]
  },
  {
   "cell_type": "code",
   "execution_count": 10,
   "metadata": {},
   "outputs": [
    {
     "data": {
      "text/plain": [
       "Text(0, 0.5, 'Price')"
      ]
     },
     "execution_count": 10,
     "metadata": {},
     "output_type": "execute_result"
    },
    {
     "data": {
      "image/png": "[encoded data removed]",
      "text/plain": [
       "<Figure size 432x288 with 1 Axes>"
      ]
     },
     "metadata": {
      "needs_background": "light"
     },
     "output_type": "display_data"
    }
   ],
   "source": [
    "CL['Price'].plot()\n",
    "plt.xlabel('Date')\n",
    "plt.ylabel('Price')\n"
   ]
  },
  {
   "cell_type": "code",
   "execution_count": 11,
   "metadata": {},
   "outputs": [],
   "source": [
    "CL['HL_PCT'] = (CL['High'] - CL['Low']) / CL['Price'] * 100.0"
   ]
  },
  {
   "cell_type": "code",
   "execution_count": 12,
   "metadata": {},
   "outputs": [],
   "source": [
    "CL['PCT_change'] = (CL['Price'] - CL['Open']) / CL['Open'] * 100.0"
   ]
  },
  {
   "cell_type": "code",
   "execution_count": 13,
   "metadata": {
    "scrolled": true
   },
   "outputs": [],
   "source": [
    "CLframe = CL[['Price', 'HL_PCT', 'PCT_change']]"
   ]
  },
  {
   "cell_type": "code",
   "execution_count": 14,
   "metadata": {},
   "outputs": [],
   "source": [
    "forecast_col = 'Price'"
   ]
  },
  {
   "cell_type": "code",
   "execution_count": 15,
   "metadata": {},
   "outputs": [
    {
     "name": "stderr",
     "output_type": "stream",
     "text": [
      "C:\\Users\\garre\\Anaconda3\\lib\\site-packages\\pandas\\core\\frame.py:3790: SettingWithCopyWarning: \n",
      "A value is trying to be set on a copy of a slice from a DataFrame\n",
      "\n",
      "See the caveats in the documentation: http://pandas.pydata.org/pandas-docs/stable/indexing.html#indexing-view-versus-copy\n",
      "  downcast=downcast, **kwargs)\n"
     ]
    }
   ],
   "source": [
    "CLframe.fillna(value=-99999, inplace=True)"
   ]
  },
  {
   "cell_type": "code",
   "execution_count": 16,
   "metadata": {},
   "outputs": [],
   "source": [
    "forecast_out = int(math.ceil(0.01 * len(CLframe)))"
   ]
  },
  {
   "cell_type": "code",
   "execution_count": 17,
   "metadata": {},
   "outputs": [
    {
     "name": "stderr",
     "output_type": "stream",
     "text": [
      "C:\\Users\\garre\\Anaconda3\\lib\\site-packages\\ipykernel_launcher.py:1: SettingWithCopyWarning: \n",
      "A value is trying to be set on a copy of a slice from a DataFrame.\n",
      "Try using .loc[row_indexer,col_indexer] = value instead\n",
      "\n",
      "See the caveats in the documentation: http://pandas.pydata.org/pandas-docs/stable/indexing.html#indexing-view-versus-copy\n",
      "  \"\"\"Entry point for launching an IPython kernel.\n"
     ]
    }
   ],
   "source": [
    "CLframe['label'] = CLframe[forecast_col].shift(-forecast_out)"
   ]
  },
  {
   "cell_type": "code",
   "execution_count": 18,
   "metadata": {},
   "outputs": [],
   "source": [
    "X = np.array(CLframe.drop(['label'], 1))\n",
    "X = preprocessing.scale(X)\n",
    "X_lately = X[-forecast_out:]\n",
    "X = X[:-forecast_out]"
   ]
  },
  {
   "cell_type": "code",
   "execution_count": 19,
   "metadata": {},
   "outputs": [
    {
     "name": "stderr",
     "output_type": "stream",
     "text": [
      "C:\\Users\\garre\\Anaconda3\\lib\\site-packages\\ipykernel_launcher.py:1: SettingWithCopyWarning: \n",
      "A value is trying to be set on a copy of a slice from a DataFrame\n",
      "\n",
      "See the caveats in the documentation: http://pandas.pydata.org/pandas-docs/stable/indexing.html#indexing-view-versus-copy\n",
      "  \"\"\"Entry point for launching an IPython kernel.\n"
     ]
    }
   ],
   "source": [
    "CLframe.dropna(inplace=True)"
   ]
  },
  {
   "cell_type": "code",
   "execution_count": 20,
   "metadata": {},
   "outputs": [],
   "source": [
    "y = np.array(CLframe['label'])"
   ]
  },
  {
   "cell_type": "code",
   "execution_count": 21,
   "metadata": {},
   "outputs": [],
   "source": [
    "X_train = X[: 940]\n",
    "y_train = y[: 940]\n",
    "X_test = X[-398:]\n",
    "y_test = y[-398:]"
   ]
  },
  {
   "cell_type": "code",
   "execution_count": 22,
   "metadata": {},
   "outputs": [],
   "source": [
    "X_train, X_test, y_train, y_test = train_test_split(X_train, y_train)\n",
    "clf = LinearRegression(n_jobs=-1)\n",
    "clf.fit(X_train, y_train)\n",
    "confidence = clf.score(X_test, y_test)"
   ]
  },
  {
   "cell_type": "code",
   "execution_count": 23,
   "metadata": {},
   "outputs": [
    {
     "name": "stderr",
     "output_type": "stream",
     "text": [
      "C:\\Users\\garre\\Anaconda3\\lib\\site-packages\\ipykernel_launcher.py:2: SettingWithCopyWarning: \n",
      "A value is trying to be set on a copy of a slice from a DataFrame.\n",
      "Try using .loc[row_indexer,col_indexer] = value instead\n",
      "\n",
      "See the caveats in the documentation: http://pandas.pydata.org/pandas-docs/stable/indexing.html#indexing-view-versus-copy\n",
      "  \n"
     ]
    }
   ],
   "source": [
    "forecast_set = clf.predict(X_lately)\n",
    "CLframe['Forecast'] = np.nan"
   ]
  },
  {
   "cell_type": "code",
   "execution_count": 24,
   "metadata": {},
   "outputs": [
    {
     "name": "stderr",
     "output_type": "stream",
     "text": [
      "C:\\Users\\garre\\Anaconda3\\lib\\site-packages\\ipykernel_launcher.py:9: SettingWithCopyWarning: \n",
      "A value is trying to be set on a copy of a slice from a DataFrame\n",
      "\n",
      "See the caveats in the documentation: http://pandas.pydata.org/pandas-docs/stable/indexing.html#indexing-view-versus-copy\n",
      "  if __name__ == '__main__':\n"
     ]
    }
   ],
   "source": [
    "last_date = CLframe.iloc[-1].name\n",
    "last_unix = last_date.timestamp()\n",
    "one_day = 86400\n",
    "next_unix = last_unix + one_day\n",
    "\n",
    "for i in forecast_set:\n",
    "    next_date = datetime.datetime.fromtimestamp(next_unix)\n",
    "    next_unix += 86400\n",
    "    CLframe.loc[next_date] = [np.nan for _ in range(len(CLframe.columns)-1)]+[i]"
   ]
  },
  {
   "cell_type": "code",
   "execution_count": 34,
   "metadata": {},
   "outputs": [
    {
     "data": {
      "image/png": "[encoded data removed]",
      "text/plain": [
       "<Figure size 1440x720 with 1 Axes>"
      ]
     },
     "metadata": {
      "needs_background": "light"
     },
     "output_type": "display_data"
    }
   ],
   "source": [
    "CLframe['Price'].plot()\n",
    "CLframe['Forecast'].plot()\n",
    "plt.legend(loc=4)\n",
    "plt.xlabel('Date')\n",
    "plt.ylabel('Price')\n",
    "plt.rcParams['figure.figsize'] = 10,25\n"
   ]
  },
  {
   "cell_type": "code",
   "execution_count": 133,
   "metadata": {},
   "outputs": [
    {
     "name": "stdout",
     "output_type": "stream",
     "text": [
      "Date\n",
      "2014-03-24 00:00:00          NaN\n",
      "2014-03-25 00:00:00          NaN\n",
      "2014-03-26 00:00:00          NaN\n",
      "2014-03-27 00:00:00          NaN\n",
      "2014-03-28 00:00:00          NaN\n",
      "2014-03-31 00:00:00          NaN\n",
      "2014-04-01 00:00:00          NaN\n",
      "2014-04-02 00:00:00          NaN\n",
      "2014-04-03 00:00:00          NaN\n",
      "2014-04-04 00:00:00          NaN\n",
      "2014-04-07 00:00:00          NaN\n",
      "2014-04-08 00:00:00          NaN\n",
      "2014-04-09 00:00:00          NaN\n",
      "2014-04-10 00:00:00          NaN\n",
      "2014-04-11 00:00:00          NaN\n",
      "2014-04-14 00:00:00          NaN\n",
      "2014-04-15 00:00:00          NaN\n",
      "2014-04-16 00:00:00          NaN\n",
      "2014-04-17 00:00:00          NaN\n",
      "2014-04-21 00:00:00          NaN\n",
      "2014-04-22 00:00:00          NaN\n",
      "2014-04-23 00:00:00          NaN\n",
      "2014-04-24 00:00:00          NaN\n",
      "2014-04-25 00:00:00          NaN\n",
      "2014-04-28 00:00:00          NaN\n",
      "2014-04-29 00:00:00          NaN\n",
      "2014-04-30 00:00:00          NaN\n",
      "2014-05-01 00:00:00          NaN\n",
      "2014-05-02 00:00:00          NaN\n",
      "2014-05-05 00:00:00          NaN\n",
      "                         ...    \n",
      "2019-03-11 00:00:00          NaN\n",
      "2019-03-12 00:00:00          NaN\n",
      "2019-03-13 00:00:00          NaN\n",
      "2019-03-14 00:00:00          NaN\n",
      "2019-03-15 00:00:00          NaN\n",
      "2019-03-18 00:00:00          NaN\n",
      "2019-03-19 00:00:00          NaN\n",
      "2019-03-20 00:00:00          NaN\n",
      "2019-03-21 00:00:00          NaN\n",
      "2019-03-22 00:00:00          NaN\n",
      "2019-03-25 00:00:00          NaN\n",
      "2019-03-26 00:00:00          NaN\n",
      "2019-03-27 00:00:00          NaN\n",
      "2019-03-28 00:00:00          NaN\n",
      "2019-03-29 00:00:00          NaN\n",
      "2019-04-01 00:00:00          NaN\n",
      "2019-04-01 20:00:00    60.975928\n",
      "2019-04-02 20:00:00    61.074037\n",
      "2019-04-03 20:00:00    61.042444\n",
      "2019-04-04 20:00:00    61.886179\n",
      "2019-04-05 20:00:00    62.858563\n",
      "2019-04-06 20:00:00    62.046113\n",
      "2019-04-07 20:00:00    62.953574\n",
      "2019-04-08 20:00:00    62.046113\n",
      "2019-04-09 20:00:00    61.982714\n",
      "2019-04-10 20:00:00    62.013805\n",
      "2019-04-11 20:00:00    62.827958\n",
      "2019-04-12 20:00:00    62.046113\n",
      "2019-04-13 20:00:00    62.858563\n",
      "2019-04-14 20:00:00    63.799809\n",
      "Name: Forecast, Length: 1338, dtype: float64\n"
     ]
    }
   ],
   "source": [
    "print(CLframe['Forecast'])"
   ]
  },
  {
   "cell_type": "code",
   "execution_count": null,
   "metadata": {},
   "outputs": [],
   "source": []
  }
 ],
 "metadata": {
  "kernelspec": {
   "display_name": "Python 3",
   "language": "python",
   "name": "python3"
  },
  "language_info": {
   "codemirror_mode": {
    "name": "ipython",
    "version": 3
   },
   "file_extension": ".py",
   "mimetype": "text/x-python",
   "name": "python",
   "nbconvert_exporter": "python",
   "pygments_lexer": "ipython3",
   "version": "3.7.1"
  }
 },
 "nbformat": 4,
 "nbformat_minor": 2
}
